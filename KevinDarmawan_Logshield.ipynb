{
  "nbformat": 4,
  "nbformat_minor": 0,
  "metadata": {
    "colab": {
      "provenance": []
    },
    "kernelspec": {
      "name": "python3",
      "display_name": "Python 3"
    },
    "language_info": {
      "name": "python"
    },
    "widgets": {
      "application/vnd.jupyter.widget-state+json": {
        "e817d77500524f83845704e72a959c40": {
          "model_module": "@jupyter-widgets/controls",
          "model_name": "HBoxModel",
          "model_module_version": "1.5.0",
          "state": {
            "_dom_classes": [],
            "_model_module": "@jupyter-widgets/controls",
            "_model_module_version": "1.5.0",
            "_model_name": "HBoxModel",
            "_view_count": null,
            "_view_module": "@jupyter-widgets/controls",
            "_view_module_version": "1.5.0",
            "_view_name": "HBoxView",
            "box_style": "",
            "children": [
              "IPY_MODEL_c5153fbe158c4b5e8c0659b205e2b9a7",
              "IPY_MODEL_140c69dc35044c888d55983b590b0e25",
              "IPY_MODEL_b7682f88b16f4de0a8ee12b2387e1bee"
            ],
            "layout": "IPY_MODEL_28719cdd1c9a414598e4d214916817db"
          }
        },
        "c5153fbe158c4b5e8c0659b205e2b9a7": {
          "model_module": "@jupyter-widgets/controls",
          "model_name": "HTMLModel",
          "model_module_version": "1.5.0",
          "state": {
            "_dom_classes": [],
            "_model_module": "@jupyter-widgets/controls",
            "_model_module_version": "1.5.0",
            "_model_name": "HTMLModel",
            "_view_count": null,
            "_view_module": "@jupyter-widgets/controls",
            "_view_module_version": "1.5.0",
            "_view_name": "HTMLView",
            "description": "",
            "description_tooltip": null,
            "layout": "IPY_MODEL_e15bbf249b314e7ea746a1fe65760972",
            "placeholder": "​",
            "style": "IPY_MODEL_ca0ee07acf7e4043b2e1bb81d5d05582",
            "value": "model.safetensors: 100%"
          }
        },
        "140c69dc35044c888d55983b590b0e25": {
          "model_module": "@jupyter-widgets/controls",
          "model_name": "FloatProgressModel",
          "model_module_version": "1.5.0",
          "state": {
            "_dom_classes": [],
            "_model_module": "@jupyter-widgets/controls",
            "_model_module_version": "1.5.0",
            "_model_name": "FloatProgressModel",
            "_view_count": null,
            "_view_module": "@jupyter-widgets/controls",
            "_view_module_version": "1.5.0",
            "_view_name": "ProgressView",
            "bar_style": "success",
            "description": "",
            "description_tooltip": null,
            "layout": "IPY_MODEL_01b1b77189ca4868bdda6f5946b316d7",
            "max": 440449768,
            "min": 0,
            "orientation": "horizontal",
            "style": "IPY_MODEL_42b1d72068fa4892bfa49e86c12aaeda",
            "value": 440449768
          }
        },
        "b7682f88b16f4de0a8ee12b2387e1bee": {
          "model_module": "@jupyter-widgets/controls",
          "model_name": "HTMLModel",
          "model_module_version": "1.5.0",
          "state": {
            "_dom_classes": [],
            "_model_module": "@jupyter-widgets/controls",
            "_model_module_version": "1.5.0",
            "_model_name": "HTMLModel",
            "_view_count": null,
            "_view_module": "@jupyter-widgets/controls",
            "_view_module_version": "1.5.0",
            "_view_name": "HTMLView",
            "description": "",
            "description_tooltip": null,
            "layout": "IPY_MODEL_731dd1ae2e804bdb97486204a3758e03",
            "placeholder": "​",
            "style": "IPY_MODEL_1d91376f087f4a5a878fe5ff5cc64bd8",
            "value": " 440M/440M [00:02&lt;00:00, 149MB/s]"
          }
        },
        "28719cdd1c9a414598e4d214916817db": {
          "model_module": "@jupyter-widgets/base",
          "model_name": "LayoutModel",
          "model_module_version": "1.2.0",
          "state": {
            "_model_module": "@jupyter-widgets/base",
            "_model_module_version": "1.2.0",
            "_model_name": "LayoutModel",
            "_view_count": null,
            "_view_module": "@jupyter-widgets/base",
            "_view_module_version": "1.2.0",
            "_view_name": "LayoutView",
            "align_content": null,
            "align_items": null,
            "align_self": null,
            "border": null,
            "bottom": null,
            "display": null,
            "flex": null,
            "flex_flow": null,
            "grid_area": null,
            "grid_auto_columns": null,
            "grid_auto_flow": null,
            "grid_auto_rows": null,
            "grid_column": null,
            "grid_gap": null,
            "grid_row": null,
            "grid_template_areas": null,
            "grid_template_columns": null,
            "grid_template_rows": null,
            "height": null,
            "justify_content": null,
            "justify_items": null,
            "left": null,
            "margin": null,
            "max_height": null,
            "max_width": null,
            "min_height": null,
            "min_width": null,
            "object_fit": null,
            "object_position": null,
            "order": null,
            "overflow": null,
            "overflow_x": null,
            "overflow_y": null,
            "padding": null,
            "right": null,
            "top": null,
            "visibility": null,
            "width": null
          }
        },
        "e15bbf249b314e7ea746a1fe65760972": {
          "model_module": "@jupyter-widgets/base",
          "model_name": "LayoutModel",
          "model_module_version": "1.2.0",
          "state": {
            "_model_module": "@jupyter-widgets/base",
            "_model_module_version": "1.2.0",
            "_model_name": "LayoutModel",
            "_view_count": null,
            "_view_module": "@jupyter-widgets/base",
            "_view_module_version": "1.2.0",
            "_view_name": "LayoutView",
            "align_content": null,
            "align_items": null,
            "align_self": null,
            "border": null,
            "bottom": null,
            "display": null,
            "flex": null,
            "flex_flow": null,
            "grid_area": null,
            "grid_auto_columns": null,
            "grid_auto_flow": null,
            "grid_auto_rows": null,
            "grid_column": null,
            "grid_gap": null,
            "grid_row": null,
            "grid_template_areas": null,
            "grid_template_columns": null,
            "grid_template_rows": null,
            "height": null,
            "justify_content": null,
            "justify_items": null,
            "left": null,
            "margin": null,
            "max_height": null,
            "max_width": null,
            "min_height": null,
            "min_width": null,
            "object_fit": null,
            "object_position": null,
            "order": null,
            "overflow": null,
            "overflow_x": null,
            "overflow_y": null,
            "padding": null,
            "right": null,
            "top": null,
            "visibility": null,
            "width": null
          }
        },
        "ca0ee07acf7e4043b2e1bb81d5d05582": {
          "model_module": "@jupyter-widgets/controls",
          "model_name": "DescriptionStyleModel",
          "model_module_version": "1.5.0",
          "state": {
            "_model_module": "@jupyter-widgets/controls",
            "_model_module_version": "1.5.0",
            "_model_name": "DescriptionStyleModel",
            "_view_count": null,
            "_view_module": "@jupyter-widgets/base",
            "_view_module_version": "1.2.0",
            "_view_name": "StyleView",
            "description_width": ""
          }
        },
        "01b1b77189ca4868bdda6f5946b316d7": {
          "model_module": "@jupyter-widgets/base",
          "model_name": "LayoutModel",
          "model_module_version": "1.2.0",
          "state": {
            "_model_module": "@jupyter-widgets/base",
            "_model_module_version": "1.2.0",
            "_model_name": "LayoutModel",
            "_view_count": null,
            "_view_module": "@jupyter-widgets/base",
            "_view_module_version": "1.2.0",
            "_view_name": "LayoutView",
            "align_content": null,
            "align_items": null,
            "align_self": null,
            "border": null,
            "bottom": null,
            "display": null,
            "flex": null,
            "flex_flow": null,
            "grid_area": null,
            "grid_auto_columns": null,
            "grid_auto_flow": null,
            "grid_auto_rows": null,
            "grid_column": null,
            "grid_gap": null,
            "grid_row": null,
            "grid_template_areas": null,
            "grid_template_columns": null,
            "grid_template_rows": null,
            "height": null,
            "justify_content": null,
            "justify_items": null,
            "left": null,
            "margin": null,
            "max_height": null,
            "max_width": null,
            "min_height": null,
            "min_width": null,
            "object_fit": null,
            "object_position": null,
            "order": null,
            "overflow": null,
            "overflow_x": null,
            "overflow_y": null,
            "padding": null,
            "right": null,
            "top": null,
            "visibility": null,
            "width": null
          }
        },
        "42b1d72068fa4892bfa49e86c12aaeda": {
          "model_module": "@jupyter-widgets/controls",
          "model_name": "ProgressStyleModel",
          "model_module_version": "1.5.0",
          "state": {
            "_model_module": "@jupyter-widgets/controls",
            "_model_module_version": "1.5.0",
            "_model_name": "ProgressStyleModel",
            "_view_count": null,
            "_view_module": "@jupyter-widgets/base",
            "_view_module_version": "1.2.0",
            "_view_name": "StyleView",
            "bar_color": null,
            "description_width": ""
          }
        },
        "731dd1ae2e804bdb97486204a3758e03": {
          "model_module": "@jupyter-widgets/base",
          "model_name": "LayoutModel",
          "model_module_version": "1.2.0",
          "state": {
            "_model_module": "@jupyter-widgets/base",
            "_model_module_version": "1.2.0",
            "_model_name": "LayoutModel",
            "_view_count": null,
            "_view_module": "@jupyter-widgets/base",
            "_view_module_version": "1.2.0",
            "_view_name": "LayoutView",
            "align_content": null,
            "align_items": null,
            "align_self": null,
            "border": null,
            "bottom": null,
            "display": null,
            "flex": null,
            "flex_flow": null,
            "grid_area": null,
            "grid_auto_columns": null,
            "grid_auto_flow": null,
            "grid_auto_rows": null,
            "grid_column": null,
            "grid_gap": null,
            "grid_row": null,
            "grid_template_areas": null,
            "grid_template_columns": null,
            "grid_template_rows": null,
            "height": null,
            "justify_content": null,
            "justify_items": null,
            "left": null,
            "margin": null,
            "max_height": null,
            "max_width": null,
            "min_height": null,
            "min_width": null,
            "object_fit": null,
            "object_position": null,
            "order": null,
            "overflow": null,
            "overflow_x": null,
            "overflow_y": null,
            "padding": null,
            "right": null,
            "top": null,
            "visibility": null,
            "width": null
          }
        },
        "1d91376f087f4a5a878fe5ff5cc64bd8": {
          "model_module": "@jupyter-widgets/controls",
          "model_name": "DescriptionStyleModel",
          "model_module_version": "1.5.0",
          "state": {
            "_model_module": "@jupyter-widgets/controls",
            "_model_module_version": "1.5.0",
            "_model_name": "DescriptionStyleModel",
            "_view_count": null,
            "_view_module": "@jupyter-widgets/base",
            "_view_module_version": "1.2.0",
            "_view_name": "StyleView",
            "description_width": ""
          }
        }
      }
    }
  },
  "cells": [
    {
      "cell_type": "markdown",
      "source": [
        "Import"
      ],
      "metadata": {
        "id": "KYncwzzMHYSO"
      }
    },
    {
      "cell_type": "code",
      "source": [
        "!pip install matplotlib seaborn plotly\n",
        "!pip install transformers\n",
        "!pip install scikit-learn\n",
        "!pip install transformers datasets\n",
        "!pip install datasets\n",
        "!pip install --upgrade datasets"
      ],
      "metadata": {
        "colab": {
          "base_uri": "https://localhost:8080/"
        },
        "id": "Q75OqvcbLHbU",
        "outputId": "7c29c75e-cd17-4762-ef19-b748bde4f58f"
      },
      "execution_count": 13,
      "outputs": [
        {
          "output_type": "stream",
          "name": "stdout",
          "text": [
            "Requirement already satisfied: matplotlib in /usr/local/lib/python3.10/dist-packages (3.7.1)\n",
            "Requirement already satisfied: seaborn in /usr/local/lib/python3.10/dist-packages (0.13.2)\n",
            "Requirement already satisfied: plotly in /usr/local/lib/python3.10/dist-packages (5.24.1)\n",
            "Requirement already satisfied: contourpy>=1.0.1 in /usr/local/lib/python3.10/dist-packages (from matplotlib) (1.3.0)\n",
            "Requirement already satisfied: cycler>=0.10 in /usr/local/lib/python3.10/dist-packages (from matplotlib) (0.12.1)\n",
            "Requirement already satisfied: fonttools>=4.22.0 in /usr/local/lib/python3.10/dist-packages (from matplotlib) (4.54.1)\n",
            "Requirement already satisfied: kiwisolver>=1.0.1 in /usr/local/lib/python3.10/dist-packages (from matplotlib) (1.4.7)\n",
            "Requirement already satisfied: numpy>=1.20 in /usr/local/lib/python3.10/dist-packages (from matplotlib) (1.26.4)\n",
            "Requirement already satisfied: packaging>=20.0 in /usr/local/lib/python3.10/dist-packages (from matplotlib) (24.1)\n",
            "Requirement already satisfied: pillow>=6.2.0 in /usr/local/lib/python3.10/dist-packages (from matplotlib) (10.4.0)\n",
            "Requirement already satisfied: pyparsing>=2.3.1 in /usr/local/lib/python3.10/dist-packages (from matplotlib) (3.2.0)\n",
            "Requirement already satisfied: python-dateutil>=2.7 in /usr/local/lib/python3.10/dist-packages (from matplotlib) (2.8.2)\n",
            "Requirement already satisfied: pandas>=1.2 in /usr/local/lib/python3.10/dist-packages (from seaborn) (2.2.2)\n",
            "Requirement already satisfied: tenacity>=6.2.0 in /usr/local/lib/python3.10/dist-packages (from plotly) (9.0.0)\n",
            "Requirement already satisfied: pytz>=2020.1 in /usr/local/lib/python3.10/dist-packages (from pandas>=1.2->seaborn) (2024.2)\n",
            "Requirement already satisfied: tzdata>=2022.7 in /usr/local/lib/python3.10/dist-packages (from pandas>=1.2->seaborn) (2024.2)\n",
            "Requirement already satisfied: six>=1.5 in /usr/local/lib/python3.10/dist-packages (from python-dateutil>=2.7->matplotlib) (1.16.0)\n",
            "Requirement already satisfied: transformers in /usr/local/lib/python3.10/dist-packages (4.44.2)\n",
            "Requirement already satisfied: filelock in /usr/local/lib/python3.10/dist-packages (from transformers) (3.16.1)\n",
            "Requirement already satisfied: huggingface-hub<1.0,>=0.23.2 in /usr/local/lib/python3.10/dist-packages (from transformers) (0.24.7)\n",
            "Requirement already satisfied: numpy>=1.17 in /usr/local/lib/python3.10/dist-packages (from transformers) (1.26.4)\n",
            "Requirement already satisfied: packaging>=20.0 in /usr/local/lib/python3.10/dist-packages (from transformers) (24.1)\n",
            "Requirement already satisfied: pyyaml>=5.1 in /usr/local/lib/python3.10/dist-packages (from transformers) (6.0.2)\n",
            "Requirement already satisfied: regex!=2019.12.17 in /usr/local/lib/python3.10/dist-packages (from transformers) (2024.9.11)\n",
            "Requirement already satisfied: requests in /usr/local/lib/python3.10/dist-packages (from transformers) (2.32.3)\n",
            "Requirement already satisfied: safetensors>=0.4.1 in /usr/local/lib/python3.10/dist-packages (from transformers) (0.4.5)\n",
            "Requirement already satisfied: tokenizers<0.20,>=0.19 in /usr/local/lib/python3.10/dist-packages (from transformers) (0.19.1)\n",
            "Requirement already satisfied: tqdm>=4.27 in /usr/local/lib/python3.10/dist-packages (from transformers) (4.66.5)\n",
            "Requirement already satisfied: fsspec>=2023.5.0 in /usr/local/lib/python3.10/dist-packages (from huggingface-hub<1.0,>=0.23.2->transformers) (2024.6.1)\n",
            "Requirement already satisfied: typing-extensions>=3.7.4.3 in /usr/local/lib/python3.10/dist-packages (from huggingface-hub<1.0,>=0.23.2->transformers) (4.12.2)\n",
            "Requirement already satisfied: charset-normalizer<4,>=2 in /usr/local/lib/python3.10/dist-packages (from requests->transformers) (3.4.0)\n",
            "Requirement already satisfied: idna<4,>=2.5 in /usr/local/lib/python3.10/dist-packages (from requests->transformers) (3.10)\n",
            "Requirement already satisfied: urllib3<3,>=1.21.1 in /usr/local/lib/python3.10/dist-packages (from requests->transformers) (2.2.3)\n",
            "Requirement already satisfied: certifi>=2017.4.17 in /usr/local/lib/python3.10/dist-packages (from requests->transformers) (2024.8.30)\n",
            "Requirement already satisfied: scikit-learn in /usr/local/lib/python3.10/dist-packages (1.5.2)\n",
            "Requirement already satisfied: numpy>=1.19.5 in /usr/local/lib/python3.10/dist-packages (from scikit-learn) (1.26.4)\n",
            "Requirement already satisfied: scipy>=1.6.0 in /usr/local/lib/python3.10/dist-packages (from scikit-learn) (1.13.1)\n",
            "Requirement already satisfied: joblib>=1.2.0 in /usr/local/lib/python3.10/dist-packages (from scikit-learn) (1.4.2)\n",
            "Requirement already satisfied: threadpoolctl>=3.1.0 in /usr/local/lib/python3.10/dist-packages (from scikit-learn) (3.5.0)\n",
            "Requirement already satisfied: transformers in /usr/local/lib/python3.10/dist-packages (4.44.2)\n",
            "Requirement already satisfied: datasets in /usr/local/lib/python3.10/dist-packages (3.0.2)\n",
            "Requirement already satisfied: filelock in /usr/local/lib/python3.10/dist-packages (from transformers) (3.16.1)\n",
            "Requirement already satisfied: huggingface-hub<1.0,>=0.23.2 in /usr/local/lib/python3.10/dist-packages (from transformers) (0.24.7)\n",
            "Requirement already satisfied: numpy>=1.17 in /usr/local/lib/python3.10/dist-packages (from transformers) (1.26.4)\n",
            "Requirement already satisfied: packaging>=20.0 in /usr/local/lib/python3.10/dist-packages (from transformers) (24.1)\n",
            "Requirement already satisfied: pyyaml>=5.1 in /usr/local/lib/python3.10/dist-packages (from transformers) (6.0.2)\n",
            "Requirement already satisfied: regex!=2019.12.17 in /usr/local/lib/python3.10/dist-packages (from transformers) (2024.9.11)\n",
            "Requirement already satisfied: requests in /usr/local/lib/python3.10/dist-packages (from transformers) (2.32.3)\n",
            "Requirement already satisfied: safetensors>=0.4.1 in /usr/local/lib/python3.10/dist-packages (from transformers) (0.4.5)\n",
            "Requirement already satisfied: tokenizers<0.20,>=0.19 in /usr/local/lib/python3.10/dist-packages (from transformers) (0.19.1)\n",
            "Requirement already satisfied: tqdm>=4.27 in /usr/local/lib/python3.10/dist-packages (from transformers) (4.66.5)\n",
            "Requirement already satisfied: pyarrow>=15.0.0 in /usr/local/lib/python3.10/dist-packages (from datasets) (16.1.0)\n",
            "Requirement already satisfied: dill<0.3.9,>=0.3.0 in /usr/local/lib/python3.10/dist-packages (from datasets) (0.3.8)\n",
            "Requirement already satisfied: pandas in /usr/local/lib/python3.10/dist-packages (from datasets) (2.2.2)\n",
            "Requirement already satisfied: xxhash in /usr/local/lib/python3.10/dist-packages (from datasets) (3.5.0)\n",
            "Requirement already satisfied: multiprocess<0.70.17 in /usr/local/lib/python3.10/dist-packages (from datasets) (0.70.16)\n",
            "Requirement already satisfied: fsspec<=2024.9.0,>=2023.1.0 in /usr/local/lib/python3.10/dist-packages (from fsspec[http]<=2024.9.0,>=2023.1.0->datasets) (2024.6.1)\n",
            "Requirement already satisfied: aiohttp in /usr/local/lib/python3.10/dist-packages (from datasets) (3.10.10)\n",
            "Requirement already satisfied: aiohappyeyeballs>=2.3.0 in /usr/local/lib/python3.10/dist-packages (from aiohttp->datasets) (2.4.3)\n",
            "Requirement already satisfied: aiosignal>=1.1.2 in /usr/local/lib/python3.10/dist-packages (from aiohttp->datasets) (1.3.1)\n",
            "Requirement already satisfied: attrs>=17.3.0 in /usr/local/lib/python3.10/dist-packages (from aiohttp->datasets) (24.2.0)\n",
            "Requirement already satisfied: frozenlist>=1.1.1 in /usr/local/lib/python3.10/dist-packages (from aiohttp->datasets) (1.5.0)\n",
            "Requirement already satisfied: multidict<7.0,>=4.5 in /usr/local/lib/python3.10/dist-packages (from aiohttp->datasets) (6.1.0)\n",
            "Requirement already satisfied: yarl<2.0,>=1.12.0 in /usr/local/lib/python3.10/dist-packages (from aiohttp->datasets) (1.16.0)\n",
            "Requirement already satisfied: async-timeout<5.0,>=4.0 in /usr/local/lib/python3.10/dist-packages (from aiohttp->datasets) (4.0.3)\n",
            "Requirement already satisfied: typing-extensions>=3.7.4.3 in /usr/local/lib/python3.10/dist-packages (from huggingface-hub<1.0,>=0.23.2->transformers) (4.12.2)\n",
            "Requirement already satisfied: charset-normalizer<4,>=2 in /usr/local/lib/python3.10/dist-packages (from requests->transformers) (3.4.0)\n",
            "Requirement already satisfied: idna<4,>=2.5 in /usr/local/lib/python3.10/dist-packages (from requests->transformers) (3.10)\n",
            "Requirement already satisfied: urllib3<3,>=1.21.1 in /usr/local/lib/python3.10/dist-packages (from requests->transformers) (2.2.3)\n",
            "Requirement already satisfied: certifi>=2017.4.17 in /usr/local/lib/python3.10/dist-packages (from requests->transformers) (2024.8.30)\n",
            "Requirement already satisfied: python-dateutil>=2.8.2 in /usr/local/lib/python3.10/dist-packages (from pandas->datasets) (2.8.2)\n",
            "Requirement already satisfied: pytz>=2020.1 in /usr/local/lib/python3.10/dist-packages (from pandas->datasets) (2024.2)\n",
            "Requirement already satisfied: tzdata>=2022.7 in /usr/local/lib/python3.10/dist-packages (from pandas->datasets) (2024.2)\n",
            "Requirement already satisfied: six>=1.5 in /usr/local/lib/python3.10/dist-packages (from python-dateutil>=2.8.2->pandas->datasets) (1.16.0)\n",
            "Requirement already satisfied: propcache>=0.2.0 in /usr/local/lib/python3.10/dist-packages (from yarl<2.0,>=1.12.0->aiohttp->datasets) (0.2.0)\n",
            "Requirement already satisfied: datasets in /usr/local/lib/python3.10/dist-packages (3.0.2)\n",
            "Requirement already satisfied: filelock in /usr/local/lib/python3.10/dist-packages (from datasets) (3.16.1)\n",
            "Requirement already satisfied: numpy>=1.17 in /usr/local/lib/python3.10/dist-packages (from datasets) (1.26.4)\n",
            "Requirement already satisfied: pyarrow>=15.0.0 in /usr/local/lib/python3.10/dist-packages (from datasets) (16.1.0)\n",
            "Requirement already satisfied: dill<0.3.9,>=0.3.0 in /usr/local/lib/python3.10/dist-packages (from datasets) (0.3.8)\n",
            "Requirement already satisfied: pandas in /usr/local/lib/python3.10/dist-packages (from datasets) (2.2.2)\n",
            "Requirement already satisfied: requests>=2.32.2 in /usr/local/lib/python3.10/dist-packages (from datasets) (2.32.3)\n",
            "Requirement already satisfied: tqdm>=4.66.3 in /usr/local/lib/python3.10/dist-packages (from datasets) (4.66.5)\n",
            "Requirement already satisfied: xxhash in /usr/local/lib/python3.10/dist-packages (from datasets) (3.5.0)\n",
            "Requirement already satisfied: multiprocess<0.70.17 in /usr/local/lib/python3.10/dist-packages (from datasets) (0.70.16)\n",
            "Requirement already satisfied: fsspec<=2024.9.0,>=2023.1.0 in /usr/local/lib/python3.10/dist-packages (from fsspec[http]<=2024.9.0,>=2023.1.0->datasets) (2024.6.1)\n",
            "Requirement already satisfied: aiohttp in /usr/local/lib/python3.10/dist-packages (from datasets) (3.10.10)\n",
            "Requirement already satisfied: huggingface-hub>=0.23.0 in /usr/local/lib/python3.10/dist-packages (from datasets) (0.24.7)\n",
            "Requirement already satisfied: packaging in /usr/local/lib/python3.10/dist-packages (from datasets) (24.1)\n",
            "Requirement already satisfied: pyyaml>=5.1 in /usr/local/lib/python3.10/dist-packages (from datasets) (6.0.2)\n",
            "Requirement already satisfied: aiohappyeyeballs>=2.3.0 in /usr/local/lib/python3.10/dist-packages (from aiohttp->datasets) (2.4.3)\n",
            "Requirement already satisfied: aiosignal>=1.1.2 in /usr/local/lib/python3.10/dist-packages (from aiohttp->datasets) (1.3.1)\n",
            "Requirement already satisfied: attrs>=17.3.0 in /usr/local/lib/python3.10/dist-packages (from aiohttp->datasets) (24.2.0)\n",
            "Requirement already satisfied: frozenlist>=1.1.1 in /usr/local/lib/python3.10/dist-packages (from aiohttp->datasets) (1.5.0)\n",
            "Requirement already satisfied: multidict<7.0,>=4.5 in /usr/local/lib/python3.10/dist-packages (from aiohttp->datasets) (6.1.0)\n",
            "Requirement already satisfied: yarl<2.0,>=1.12.0 in /usr/local/lib/python3.10/dist-packages (from aiohttp->datasets) (1.16.0)\n",
            "Requirement already satisfied: async-timeout<5.0,>=4.0 in /usr/local/lib/python3.10/dist-packages (from aiohttp->datasets) (4.0.3)\n",
            "Requirement already satisfied: typing-extensions>=3.7.4.3 in /usr/local/lib/python3.10/dist-packages (from huggingface-hub>=0.23.0->datasets) (4.12.2)\n",
            "Requirement already satisfied: charset-normalizer<4,>=2 in /usr/local/lib/python3.10/dist-packages (from requests>=2.32.2->datasets) (3.4.0)\n",
            "Requirement already satisfied: idna<4,>=2.5 in /usr/local/lib/python3.10/dist-packages (from requests>=2.32.2->datasets) (3.10)\n",
            "Requirement already satisfied: urllib3<3,>=1.21.1 in /usr/local/lib/python3.10/dist-packages (from requests>=2.32.2->datasets) (2.2.3)\n",
            "Requirement already satisfied: certifi>=2017.4.17 in /usr/local/lib/python3.10/dist-packages (from requests>=2.32.2->datasets) (2024.8.30)\n",
            "Requirement already satisfied: python-dateutil>=2.8.2 in /usr/local/lib/python3.10/dist-packages (from pandas->datasets) (2.8.2)\n",
            "Requirement already satisfied: pytz>=2020.1 in /usr/local/lib/python3.10/dist-packages (from pandas->datasets) (2024.2)\n",
            "Requirement already satisfied: tzdata>=2022.7 in /usr/local/lib/python3.10/dist-packages (from pandas->datasets) (2024.2)\n",
            "Requirement already satisfied: six>=1.5 in /usr/local/lib/python3.10/dist-packages (from python-dateutil>=2.8.2->pandas->datasets) (1.16.0)\n",
            "Requirement already satisfied: propcache>=0.2.0 in /usr/local/lib/python3.10/dist-packages (from yarl<2.0,>=1.12.0->aiohttp->datasets) (0.2.0)\n",
            "Requirement already satisfied: datasets in /usr/local/lib/python3.10/dist-packages (3.0.2)\n",
            "Requirement already satisfied: filelock in /usr/local/lib/python3.10/dist-packages (from datasets) (3.16.1)\n",
            "Requirement already satisfied: numpy>=1.17 in /usr/local/lib/python3.10/dist-packages (from datasets) (1.26.4)\n",
            "Requirement already satisfied: pyarrow>=15.0.0 in /usr/local/lib/python3.10/dist-packages (from datasets) (16.1.0)\n",
            "Requirement already satisfied: dill<0.3.9,>=0.3.0 in /usr/local/lib/python3.10/dist-packages (from datasets) (0.3.8)\n",
            "Requirement already satisfied: pandas in /usr/local/lib/python3.10/dist-packages (from datasets) (2.2.2)\n",
            "Requirement already satisfied: requests>=2.32.2 in /usr/local/lib/python3.10/dist-packages (from datasets) (2.32.3)\n",
            "Requirement already satisfied: tqdm>=4.66.3 in /usr/local/lib/python3.10/dist-packages (from datasets) (4.66.5)\n",
            "Requirement already satisfied: xxhash in /usr/local/lib/python3.10/dist-packages (from datasets) (3.5.0)\n",
            "Requirement already satisfied: multiprocess<0.70.17 in /usr/local/lib/python3.10/dist-packages (from datasets) (0.70.16)\n",
            "Requirement already satisfied: fsspec<=2024.9.0,>=2023.1.0 in /usr/local/lib/python3.10/dist-packages (from fsspec[http]<=2024.9.0,>=2023.1.0->datasets) (2024.6.1)\n",
            "Requirement already satisfied: aiohttp in /usr/local/lib/python3.10/dist-packages (from datasets) (3.10.10)\n",
            "Requirement already satisfied: huggingface-hub>=0.23.0 in /usr/local/lib/python3.10/dist-packages (from datasets) (0.24.7)\n",
            "Requirement already satisfied: packaging in /usr/local/lib/python3.10/dist-packages (from datasets) (24.1)\n",
            "Requirement already satisfied: pyyaml>=5.1 in /usr/local/lib/python3.10/dist-packages (from datasets) (6.0.2)\n",
            "Requirement already satisfied: aiohappyeyeballs>=2.3.0 in /usr/local/lib/python3.10/dist-packages (from aiohttp->datasets) (2.4.3)\n",
            "Requirement already satisfied: aiosignal>=1.1.2 in /usr/local/lib/python3.10/dist-packages (from aiohttp->datasets) (1.3.1)\n",
            "Requirement already satisfied: attrs>=17.3.0 in /usr/local/lib/python3.10/dist-packages (from aiohttp->datasets) (24.2.0)\n",
            "Requirement already satisfied: frozenlist>=1.1.1 in /usr/local/lib/python3.10/dist-packages (from aiohttp->datasets) (1.5.0)\n",
            "Requirement already satisfied: multidict<7.0,>=4.5 in /usr/local/lib/python3.10/dist-packages (from aiohttp->datasets) (6.1.0)\n",
            "Requirement already satisfied: yarl<2.0,>=1.12.0 in /usr/local/lib/python3.10/dist-packages (from aiohttp->datasets) (1.16.0)\n",
            "Requirement already satisfied: async-timeout<5.0,>=4.0 in /usr/local/lib/python3.10/dist-packages (from aiohttp->datasets) (4.0.3)\n",
            "Requirement already satisfied: typing-extensions>=3.7.4.3 in /usr/local/lib/python3.10/dist-packages (from huggingface-hub>=0.23.0->datasets) (4.12.2)\n",
            "Requirement already satisfied: charset-normalizer<4,>=2 in /usr/local/lib/python3.10/dist-packages (from requests>=2.32.2->datasets) (3.4.0)\n",
            "Requirement already satisfied: idna<4,>=2.5 in /usr/local/lib/python3.10/dist-packages (from requests>=2.32.2->datasets) (3.10)\n",
            "Requirement already satisfied: urllib3<3,>=1.21.1 in /usr/local/lib/python3.10/dist-packages (from requests>=2.32.2->datasets) (2.2.3)\n",
            "Requirement already satisfied: certifi>=2017.4.17 in /usr/local/lib/python3.10/dist-packages (from requests>=2.32.2->datasets) (2024.8.30)\n",
            "Requirement already satisfied: python-dateutil>=2.8.2 in /usr/local/lib/python3.10/dist-packages (from pandas->datasets) (2.8.2)\n",
            "Requirement already satisfied: pytz>=2020.1 in /usr/local/lib/python3.10/dist-packages (from pandas->datasets) (2024.2)\n",
            "Requirement already satisfied: tzdata>=2022.7 in /usr/local/lib/python3.10/dist-packages (from pandas->datasets) (2024.2)\n",
            "Requirement already satisfied: six>=1.5 in /usr/local/lib/python3.10/dist-packages (from python-dateutil>=2.8.2->pandas->datasets) (1.16.0)\n",
            "Requirement already satisfied: propcache>=0.2.0 in /usr/local/lib/python3.10/dist-packages (from yarl<2.0,>=1.12.0->aiohttp->datasets) (0.2.0)\n"
          ]
        }
      ]
    },
    {
      "cell_type": "code",
      "execution_count": 14,
      "metadata": {
        "id": "HvU48PNO7DmF"
      },
      "outputs": [],
      "source": [
        "import pandas as pd\n",
        "import os\n",
        "import zipfile\n",
        "import networkx as nx\n",
        "import numpy as np\n",
        "import matplotlib.pyplot as plt\n",
        "import seaborn as sns\n",
        "import sqlite3\n",
        "from datasets import Dataset\n",
        "from sklearn.model_selection import train_test_split\n",
        "from sklearn.svm import OneClassSVM\n",
        "from sklearn.metrics import classification_report, accuracy_score\n",
        "from sklearn.decomposition import PCA\n",
        "from transformers import AutoTokenizer, AutoModel\n",
        "from transformers import BertTokenizer, BertForSequenceClassification, AdamW, get_linear_schedule_with_warmup\n",
        "from torch.utils.data import DataLoader, Dataset\n",
        "from google.colab import files\n",
        "import torch\n",
        "from tqdm import tqdm\n",
        "from sklearn.metrics import classification_report, accuracy_score\n",
        "import logging\n",
        "logging.basicConfig(level=logging.INFO)"
      ]
    },
    {
      "cell_type": "markdown",
      "source": [
        "ekstrak file"
      ],
      "metadata": {
        "id": "YtUrYH4caPvh"
      }
    },
    {
      "cell_type": "code",
      "source": [
        "uploaded = files.upload()\n",
        "zip_file_name = 'Full_Process_Traces 2.zip'\n",
        "extract_folder_name = 'datasets'\n",
        "with zipfile.ZipFile(zip_file_name, 'r') as zip_ref:\n",
        "    zip_ref.extractall(extract_folder_name)\n",
        "os.listdir(extract_folder_name)\n"
      ],
      "metadata": {
        "colab": {
          "base_uri": "https://localhost:8080/",
          "height": 142
        },
        "id": "KeUkd-7PaRIv",
        "outputId": "fedfc3e0-3529-4900-e98d-b99b12ed8373"
      },
      "execution_count": 3,
      "outputs": [
        {
          "output_type": "display_data",
          "data": {
            "text/plain": [
              "<IPython.core.display.HTML object>"
            ],
            "text/html": [
              "\n",
              "     <input type=\"file\" id=\"files-95235e08-8f43-44e7-8757-c074b7a0544e\" name=\"files[]\" multiple disabled\n",
              "        style=\"border:none\" />\n",
              "     <output id=\"result-95235e08-8f43-44e7-8757-c074b7a0544e\">\n",
              "      Upload widget is only available when the cell has been executed in the\n",
              "      current browser session. Please rerun this cell to enable.\n",
              "      </output>\n",
              "      <script>// Copyright 2017 Google LLC\n",
              "//\n",
              "// Licensed under the Apache License, Version 2.0 (the \"License\");\n",
              "// you may not use this file except in compliance with the License.\n",
              "// You may obtain a copy of the License at\n",
              "//\n",
              "//      http://www.apache.org/licenses/LICENSE-2.0\n",
              "//\n",
              "// Unless required by applicable law or agreed to in writing, software\n",
              "// distributed under the License is distributed on an \"AS IS\" BASIS,\n",
              "// WITHOUT WARRANTIES OR CONDITIONS OF ANY KIND, either express or implied.\n",
              "// See the License for the specific language governing permissions and\n",
              "// limitations under the License.\n",
              "\n",
              "/**\n",
              " * @fileoverview Helpers for google.colab Python module.\n",
              " */\n",
              "(function(scope) {\n",
              "function span(text, styleAttributes = {}) {\n",
              "  const element = document.createElement('span');\n",
              "  element.textContent = text;\n",
              "  for (const key of Object.keys(styleAttributes)) {\n",
              "    element.style[key] = styleAttributes[key];\n",
              "  }\n",
              "  return element;\n",
              "}\n",
              "\n",
              "// Max number of bytes which will be uploaded at a time.\n",
              "const MAX_PAYLOAD_SIZE = 100 * 1024;\n",
              "\n",
              "function _uploadFiles(inputId, outputId) {\n",
              "  const steps = uploadFilesStep(inputId, outputId);\n",
              "  const outputElement = document.getElementById(outputId);\n",
              "  // Cache steps on the outputElement to make it available for the next call\n",
              "  // to uploadFilesContinue from Python.\n",
              "  outputElement.steps = steps;\n",
              "\n",
              "  return _uploadFilesContinue(outputId);\n",
              "}\n",
              "\n",
              "// This is roughly an async generator (not supported in the browser yet),\n",
              "// where there are multiple asynchronous steps and the Python side is going\n",
              "// to poll for completion of each step.\n",
              "// This uses a Promise to block the python side on completion of each step,\n",
              "// then passes the result of the previous step as the input to the next step.\n",
              "function _uploadFilesContinue(outputId) {\n",
              "  const outputElement = document.getElementById(outputId);\n",
              "  const steps = outputElement.steps;\n",
              "\n",
              "  const next = steps.next(outputElement.lastPromiseValue);\n",
              "  return Promise.resolve(next.value.promise).then((value) => {\n",
              "    // Cache the last promise value to make it available to the next\n",
              "    // step of the generator.\n",
              "    outputElement.lastPromiseValue = value;\n",
              "    return next.value.response;\n",
              "  });\n",
              "}\n",
              "\n",
              "/**\n",
              " * Generator function which is called between each async step of the upload\n",
              " * process.\n",
              " * @param {string} inputId Element ID of the input file picker element.\n",
              " * @param {string} outputId Element ID of the output display.\n",
              " * @return {!Iterable<!Object>} Iterable of next steps.\n",
              " */\n",
              "function* uploadFilesStep(inputId, outputId) {\n",
              "  const inputElement = document.getElementById(inputId);\n",
              "  inputElement.disabled = false;\n",
              "\n",
              "  const outputElement = document.getElementById(outputId);\n",
              "  outputElement.innerHTML = '';\n",
              "\n",
              "  const pickedPromise = new Promise((resolve) => {\n",
              "    inputElement.addEventListener('change', (e) => {\n",
              "      resolve(e.target.files);\n",
              "    });\n",
              "  });\n",
              "\n",
              "  const cancel = document.createElement('button');\n",
              "  inputElement.parentElement.appendChild(cancel);\n",
              "  cancel.textContent = 'Cancel upload';\n",
              "  const cancelPromise = new Promise((resolve) => {\n",
              "    cancel.onclick = () => {\n",
              "      resolve(null);\n",
              "    };\n",
              "  });\n",
              "\n",
              "  // Wait for the user to pick the files.\n",
              "  const files = yield {\n",
              "    promise: Promise.race([pickedPromise, cancelPromise]),\n",
              "    response: {\n",
              "      action: 'starting',\n",
              "    }\n",
              "  };\n",
              "\n",
              "  cancel.remove();\n",
              "\n",
              "  // Disable the input element since further picks are not allowed.\n",
              "  inputElement.disabled = true;\n",
              "\n",
              "  if (!files) {\n",
              "    return {\n",
              "      response: {\n",
              "        action: 'complete',\n",
              "      }\n",
              "    };\n",
              "  }\n",
              "\n",
              "  for (const file of files) {\n",
              "    const li = document.createElement('li');\n",
              "    li.append(span(file.name, {fontWeight: 'bold'}));\n",
              "    li.append(span(\n",
              "        `(${file.type || 'n/a'}) - ${file.size} bytes, ` +\n",
              "        `last modified: ${\n",
              "            file.lastModifiedDate ? file.lastModifiedDate.toLocaleDateString() :\n",
              "                                    'n/a'} - `));\n",
              "    const percent = span('0% done');\n",
              "    li.appendChild(percent);\n",
              "\n",
              "    outputElement.appendChild(li);\n",
              "\n",
              "    const fileDataPromise = new Promise((resolve) => {\n",
              "      const reader = new FileReader();\n",
              "      reader.onload = (e) => {\n",
              "        resolve(e.target.result);\n",
              "      };\n",
              "      reader.readAsArrayBuffer(file);\n",
              "    });\n",
              "    // Wait for the data to be ready.\n",
              "    let fileData = yield {\n",
              "      promise: fileDataPromise,\n",
              "      response: {\n",
              "        action: 'continue',\n",
              "      }\n",
              "    };\n",
              "\n",
              "    // Use a chunked sending to avoid message size limits. See b/62115660.\n",
              "    let position = 0;\n",
              "    do {\n",
              "      const length = Math.min(fileData.byteLength - position, MAX_PAYLOAD_SIZE);\n",
              "      const chunk = new Uint8Array(fileData, position, length);\n",
              "      position += length;\n",
              "\n",
              "      const base64 = btoa(String.fromCharCode.apply(null, chunk));\n",
              "      yield {\n",
              "        response: {\n",
              "          action: 'append',\n",
              "          file: file.name,\n",
              "          data: base64,\n",
              "        },\n",
              "      };\n",
              "\n",
              "      let percentDone = fileData.byteLength === 0 ?\n",
              "          100 :\n",
              "          Math.round((position / fileData.byteLength) * 100);\n",
              "      percent.textContent = `${percentDone}% done`;\n",
              "\n",
              "    } while (position < fileData.byteLength);\n",
              "  }\n",
              "\n",
              "  // All done.\n",
              "  yield {\n",
              "    response: {\n",
              "      action: 'complete',\n",
              "    }\n",
              "  };\n",
              "}\n",
              "\n",
              "scope.google = scope.google || {};\n",
              "scope.google.colab = scope.google.colab || {};\n",
              "scope.google.colab._files = {\n",
              "  _uploadFiles,\n",
              "  _uploadFilesContinue,\n",
              "};\n",
              "})(self);\n",
              "</script> "
            ]
          },
          "metadata": {}
        },
        {
          "output_type": "stream",
          "name": "stdout",
          "text": [
            "Saving Full_Process_Traces 2.zip to Full_Process_Traces 2.zip\n"
          ]
        },
        {
          "output_type": "execute_result",
          "data": {
            "text/plain": [
              "['Full_Trace_Attack_Data',\n",
              " 'Full_Trace_Training_Data',\n",
              " 'Full_Trace_Validation_Data',\n",
              " '.DS_Store']"
            ]
          },
          "metadata": {},
          "execution_count": 3
        }
      ]
    },
    {
      "cell_type": "markdown",
      "source": [
        "untuk membaca data"
      ],
      "metadata": {
        "id": "gJtj_N9VHfvw"
      }
    },
    {
      "cell_type": "code",
      "source": [
        "def load_adfa_ids(dataset_dir):\n",
        "    data = []\n",
        "    for root, dirs, files in os.walk(dataset_dir):\n",
        "        for file in files:\n",
        "\n",
        "            try:\n",
        "                with open(os.path.join(root, file), 'r', encoding='latin-1') as f:\n",
        "                    sequence = f.readlines()\n",
        "                    sequence = [line.strip() for line in sequence]\n",
        "                    data.append(sequence)\n",
        "            except UnicodeDecodeError:\n",
        "\n",
        "                try:\n",
        "                    with open(os.path.join(root, file), 'r', encoding='utf-16') as f:\n",
        "                        sequence = f.readlines()\n",
        "                        sequence = [line.strip() for line in sequence]\n",
        "                        data.append(sequence)\n",
        "                except UnicodeDecodeError:\n",
        "                    print(f\"Error reading file: {file}. Skipping...\")\n",
        "    return [' '.join(seq) for seq in data]\n",
        "\n",
        "normal_data = load_adfa_ids('datasets/Full_Trace_Training_Data/')\n",
        "attack_data = load_adfa_ids('datasets/Full_Trace_Attack_Data/')\n",
        "\n",
        "combined_data = normal_data + attack_data\n",
        "\n",
        "# Create a DataFrame with sequences only\n",
        "df = pd.DataFrame({\n",
        "    'sequence': combined_data\n",
        "})\n",
        "\n",
        "# Shuffle the DataFrame\n",
        "df = df.sample(frac=1).reset_index(drop=True)"
      ],
      "metadata": {
        "id": "Zk4VRrS4Hc4n"
      },
      "execution_count": 15,
      "outputs": []
    },
    {
      "cell_type": "markdown",
      "source": [
        "Display data\n"
      ],
      "metadata": {
        "id": "nyyxIsDiISq2"
      }
    },
    {
      "cell_type": "code",
      "source": [
        "print(df.head(5))\n",
        "print(df.info())"
      ],
      "metadata": {
        "colab": {
          "base_uri": "https://localhost:8080/"
        },
        "id": "HwfUsxUtIUa0",
        "outputId": "a7e61490-a069-4115-8893-8ca90955cd32"
      },
      "execution_count": 16,
      "outputs": [
        {
          "output_type": "stream",
          "name": "stdout",
          "text": [
            "                                            sequence\n",
            "0           kernel32.dll+0x1084d kernel32.dll+0xb50b\n",
            "1  kernel32.dll+0xb50b kernel32.dll+0xb511 kernel...\n",
            "2  kernel32.dll+0xb50b kernel32.dll+0xb50b kernel...\n",
            "3  ntdll.dll+0x16d33 ntdll.dll+0x16f03 ntdll.dll+...\n",
            "4  ntdll.dll+0x22d81 ntdll.dll+0x22d2d ntdll.dll+...\n",
            "<class 'pandas.core.frame.DataFrame'>\n",
            "RangeIndex: 5899 entries, 0 to 5898\n",
            "Data columns (total 1 columns):\n",
            " #   Column    Non-Null Count  Dtype \n",
            "---  ------    --------------  ----- \n",
            " 0   sequence  5899 non-null   object\n",
            "dtypes: object(1)\n",
            "memory usage: 46.2+ KB\n",
            "None\n"
          ]
        }
      ]
    },
    {
      "cell_type": "markdown",
      "source": [
        "display data"
      ],
      "metadata": {
        "id": "EjRf0Iq6LSh7"
      }
    },
    {
      "cell_type": "code",
      "source": [
        "total_count = len(df)\n",
        "\n",
        "# Create a simple bar plot\n",
        "plt.figure(figsize=(6, 6))\n",
        "plt.bar(['Total Sequences'], [total_count], color='lightblue')\n",
        "plt.title('Total Count of Sequences')\n",
        "plt.ylabel('Count')\n",
        "plt.show()"
      ],
      "metadata": {
        "colab": {
          "base_uri": "https://localhost:8080/",
          "height": 545
        },
        "id": "QvI06LEELSPD",
        "outputId": "3084c0eb-0b7f-439c-cce6-d250d20963f8"
      },
      "execution_count": 17,
      "outputs": [
        {
          "output_type": "display_data",
          "data": {
            "text/plain": [
              "<Figure size 600x600 with 1 Axes>"
            ],
            "image/png": "[encoded data removed]"
          },
          "metadata": {}
        }
      ]
    },
    {
      "cell_type": "markdown",
      "source": [
        "sample dataframe"
      ],
      "metadata": {
        "id": "7RoRyszuflK1"
      }
    },
    {
      "cell_type": "code",
      "source": [
        "data = {\n",
        "    'sequence': [['call1', 'call2', 'call3'], ['call4', 'call5']],\n",
        "    'label': [0, 1]  # Example labels (0 for normal, 1 for attack)\n",
        "}\n",
        "df = pd.DataFrame(data)\n",
        "\n",
        "# Print the DataFrame to verify\n",
        "print(df)"
      ],
      "metadata": {
        "colab": {
          "base_uri": "https://localhost:8080/"
        },
        "id": "ujNqaU7Hfk2L",
        "outputId": "fc08a0fc-965d-4075-fb70-115d58d007e9"
      },
      "execution_count": 18,
      "outputs": [
        {
          "output_type": "stream",
          "name": "stdout",
          "text": [
            "                sequence  label\n",
            "0  [call1, call2, call3]      0\n",
            "1         [call4, call5]      1\n"
          ]
        }
      ]
    },
    {
      "cell_type": "markdown",
      "source": [
        "Splitting data training dan testing"
      ],
      "metadata": {
        "id": "A5QohQVqkg4v"
      }
    },
    {
      "cell_type": "code",
      "source": [
        "train_data, test_data = train_test_split(df, test_size=0.3, random_state=42)\n",
        "\n",
        "# Optionally reset the indices of the train and test DataFrames\n",
        "train_data.reset_index(drop=True, inplace=True)\n",
        "test_data.reset_index(drop=True, inplace=True)"
      ],
      "metadata": {
        "id": "EaAfhMplklwm"
      },
      "execution_count": 19,
      "outputs": []
    },
    {
      "cell_type": "markdown",
      "source": [
        "Proses tokenisasi"
      ],
      "metadata": {
        "id": "DZJhsGjUHjyS"
      }
    },
    {
      "cell_type": "code",
      "source": [
        "df['sequence'] = df['sequence'].apply(lambda x: ' '.join(x))\n",
        "\n",
        "\n",
        "tokenizer = BertTokenizer.from_pretrained('bert-base-uncased')\n",
        "\n",
        "\n",
        "tokenized = tokenizer(\n",
        "    df['sequence'].tolist(),\n",
        "    padding='max_length',\n",
        "    truncation=True,\n",
        "    max_length=100,\n",
        "    return_tensors='pt'\n",
        ")\n",
        "\n",
        "\n",
        "input_ids = tokenized['input_ids']\n",
        "attention_mask = tokenized['attention_mask']\n",
        "\n",
        "\n",
        "print(\"Input IDs:\", input_ids)\n",
        "print(\"Attention Mask:\", attention_mask)"
      ],
      "metadata": {
        "colab": {
          "base_uri": "https://localhost:8080/"
        },
        "id": "oxwamDqqHpNq",
        "outputId": "975c98e4-6dc3-40af-a6e0-550360275e89"
      },
      "execution_count": 20,
      "outputs": [
        {
          "output_type": "stream",
          "name": "stdout",
          "text": [
            "Input IDs: tensor([[ 101, 2655, 2487, 2655, 2475, 2655, 2509,  102,    0,    0,    0,    0,\n",
            "            0,    0,    0,    0,    0,    0,    0,    0,    0,    0,    0,    0,\n",
            "            0,    0,    0,    0,    0,    0,    0,    0,    0,    0,    0,    0,\n",
            "            0,    0,    0,    0,    0,    0,    0,    0,    0,    0,    0,    0,\n",
            "            0,    0,    0,    0,    0,    0,    0,    0,    0,    0,    0,    0,\n",
            "            0,    0,    0,    0,    0,    0,    0,    0,    0,    0,    0,    0,\n",
            "            0,    0,    0,    0,    0,    0,    0,    0,    0,    0,    0,    0,\n",
            "            0,    0,    0,    0,    0,    0,    0,    0,    0,    0,    0,    0,\n",
            "            0,    0,    0,    0],\n",
            "        [ 101, 2655, 2549, 2655, 2629,  102,    0,    0,    0,    0,    0,    0,\n",
            "            0,    0,    0,    0,    0,    0,    0,    0,    0,    0,    0,    0,\n",
            "            0,    0,    0,    0,    0,    0,    0,    0,    0,    0,    0,    0,\n",
            "            0,    0,    0,    0,    0,    0,    0,    0,    0,    0,    0,    0,\n",
            "            0,    0,    0,    0,    0,    0,    0,    0,    0,    0,    0,    0,\n",
            "            0,    0,    0,    0,    0,    0,    0,    0,    0,    0,    0,    0,\n",
            "            0,    0,    0,    0,    0,    0,    0,    0,    0,    0,    0,    0,\n",
            "            0,    0,    0,    0,    0,    0,    0,    0,    0,    0,    0,    0,\n",
            "            0,    0,    0,    0]])\n",
            "Attention Mask: tensor([[1, 1, 1, 1, 1, 1, 1, 1, 0, 0, 0, 0, 0, 0, 0, 0, 0, 0, 0, 0, 0, 0, 0, 0,\n",
            "         0, 0, 0, 0, 0, 0, 0, 0, 0, 0, 0, 0, 0, 0, 0, 0, 0, 0, 0, 0, 0, 0, 0, 0,\n",
            "         0, 0, 0, 0, 0, 0, 0, 0, 0, 0, 0, 0, 0, 0, 0, 0, 0, 0, 0, 0, 0, 0, 0, 0,\n",
            "         0, 0, 0, 0, 0, 0, 0, 0, 0, 0, 0, 0, 0, 0, 0, 0, 0, 0, 0, 0, 0, 0, 0, 0,\n",
            "         0, 0, 0, 0],\n",
            "        [1, 1, 1, 1, 1, 1, 0, 0, 0, 0, 0, 0, 0, 0, 0, 0, 0, 0, 0, 0, 0, 0, 0, 0,\n",
            "         0, 0, 0, 0, 0, 0, 0, 0, 0, 0, 0, 0, 0, 0, 0, 0, 0, 0, 0, 0, 0, 0, 0, 0,\n",
            "         0, 0, 0, 0, 0, 0, 0, 0, 0, 0, 0, 0, 0, 0, 0, 0, 0, 0, 0, 0, 0, 0, 0, 0,\n",
            "         0, 0, 0, 0, 0, 0, 0, 0, 0, 0, 0, 0, 0, 0, 0, 0, 0, 0, 0, 0, 0, 0, 0, 0,\n",
            "         0, 0, 0, 0]])\n"
          ]
        },
        {
          "output_type": "stream",
          "name": "stderr",
          "text": [
            "/usr/local/lib/python3.10/dist-packages/transformers/tokenization_utils_base.py:1601: FutureWarning: `clean_up_tokenization_spaces` was not set. It will be set to `True` by default. This behavior will be depracted in transformers v4.45, and will be then set to `False` by default. For more details check this issue: https://github.com/huggingface/transformers/issues/31884\n",
            "  warnings.warn(\n"
          ]
        }
      ]
    },
    {
      "cell_type": "code",
      "source": [
        "from transformers import BertModel\n",
        "model = BertModel.from_pretrained('bert-base-uncased')\n",
        "model.eval()  # Set the model to evaluation mode\n",
        "\n",
        "# Get embeddings\n",
        "with torch.no_grad():  # No need to track gradients\n",
        "    outputs = model(input_ids, attention_mask=attention_mask)\n",
        "    embeddings = outputs.last_hidden_state  # Shape: (batch_size, sequence_length, hidden_size)\n",
        "    pooled_embeddings = torch.mean(embeddings, dim=1)\n",
        "\n",
        "\n",
        "print(\"Pooled Embeddings:\", pooled_embeddings)"
      ],
      "metadata": {
        "id": "Nfe2ozkAnoKi",
        "colab": {
          "base_uri": "https://localhost:8080/",
          "height": 84,
          "referenced_widgets": [
            "e817d77500524f83845704e72a959c40",
            "c5153fbe158c4b5e8c0659b205e2b9a7",
            "140c69dc35044c888d55983b590b0e25",
            "b7682f88b16f4de0a8ee12b2387e1bee",
            "28719cdd1c9a414598e4d214916817db",
            "e15bbf249b314e7ea746a1fe65760972",
            "ca0ee07acf7e4043b2e1bb81d5d05582",
            "01b1b77189ca4868bdda6f5946b316d7",
            "42b1d72068fa4892bfa49e86c12aaeda",
            "731dd1ae2e804bdb97486204a3758e03",
            "1d91376f087f4a5a878fe5ff5cc64bd8"
          ]
        },
        "outputId": "f34b6565-1d2b-4198-e0d9-57b43be43114"
      },
      "execution_count": 21,
      "outputs": [
        {
          "output_type": "display_data",
          "data": {
            "text/plain": [
              "model.safetensors:   0%|          | 0.00/440M [00:00<?, ?B/s]"
            ],
            "application/vnd.jupyter.widget-view+json": {
              "version_major": 2,
              "version_minor": 0,
              "model_id": "e817d77500524f83845704e72a959c40"
            }
          },
          "metadata": {}
        },
        {
          "output_type": "stream",
          "name": "stdout",
          "text": [
            "Pooled Embeddings: tensor([[-0.2495, -0.4530,  0.4182,  ..., -0.1992, -0.0654, -0.2436],\n",
            "        [-0.2032, -0.4982,  0.4483,  ..., -0.3751, -0.2151, -0.2043]])\n"
          ]
        }
      ]
    },
    {
      "cell_type": "code",
      "source": [
        "conn = sqlite3.connect('embeddings.db')\n",
        "\n",
        "# Save embeddings to a table\n",
        "embeddings_df = pd.DataFrame(pooled_embeddings)\n",
        "embeddings_df.to_sql('embeddings', conn, if_exists='replace', index=False)\n",
        "\n",
        "conn.close()"
      ],
      "metadata": {
        "id": "IAK9aupsoN8e"
      },
      "execution_count": 22,
      "outputs": []
    },
    {
      "cell_type": "markdown",
      "source": [
        "Data baru untuk pendeteksian anomali"
      ],
      "metadata": {
        "id": "3kYmcKFKtQBP"
      }
    },
    {
      "cell_type": "code",
      "source": [
        "X = pooled_embeddings.numpy()\n",
        "\n",
        "# Create One-Class SVM model\n",
        "oc_svm = OneClassSVM(kernel='rbf', gamma='auto', nu=0.1)\n",
        "\n",
        "# Fit model on normal data\n",
        "oc_svm.fit(X)\n",
        "\n",
        "new_raw_data = test_data\n",
        "new_tokenized = tokenizer(\n",
        "    new_raw_data['sequence'].tolist(),\n",
        "    padding='max_length',\n",
        "    truncation=True,\n",
        "    max_length=100,\n",
        "    return_tensors='pt'\n",
        ")\n",
        "new_input_ids = new_tokenized['input_ids']\n",
        "new_attention_mask = new_tokenized['attention_mask']\n",
        "with torch.no_grad():\n",
        "    new_outputs = model(new_input_ids, attention_mask=new_attention_mask)\n",
        "    new_embeddings = new_outputs.last_hidden_state\n",
        "    new_pooled_embeddings = torch.mean(new_embeddings, dim=1)\n",
        "\n",
        "# Predict on new data\n",
        "new_data = new_pooled_embeddings.numpy() # Your new dataset here"
      ],
      "metadata": {
        "id": "-YJvlSLjqnFx"
      },
      "execution_count": 24,
      "outputs": []
    },
    {
      "cell_type": "markdown",
      "source": [
        "Analisa Anomali"
      ],
      "metadata": {
        "id": "NjJ73ZaWHtL-"
      }
    },
    {
      "cell_type": "code",
      "source": [
        "predictions = oc_svm.predict(new_data)\n",
        "\n",
        "# Identify anomalies\n",
        "anomalies = predictions == -1\n",
        "print(\"Anomalous Data Points Indices:\", np.where(anomalies)[0])"
      ],
      "metadata": {
        "id": "tpUGkzRwHvhw",
        "colab": {
          "base_uri": "https://localhost:8080/"
        },
        "outputId": "015f77ea-9063-4583-fecf-210a7554be37"
      },
      "execution_count": 25,
      "outputs": [
        {
          "output_type": "stream",
          "name": "stdout",
          "text": [
            "Anomalous Data Points Indices: [0]\n"
          ]
        }
      ]
    },
    {
      "cell_type": "markdown",
      "source": [
        "Analisa hasil"
      ],
      "metadata": {
        "id": "zs8HUm-d1q2w"
      }
    },
    {
      "cell_type": "code",
      "source": [
        "anomaly_indices = np.where(anomalies)[0]\n",
        "\n",
        "# Output the anomalous data points\n",
        "anomalous_data = new_data[anomaly_indices]\n",
        "print(\"Anomalous Data Points:\")\n",
        "print(anomalous_data)"
      ],
      "metadata": {
        "id": "sgoQnW7fU5FE",
        "colab": {
          "base_uri": "https://localhost:8080/"
        },
        "outputId": "329c55cf-1f8f-4189-b706-1d72195d604e"
      },
      "execution_count": 26,
      "outputs": [
        {
          "output_type": "stream",
          "name": "stdout",
          "text": [
            "Anomalous Data Points:\n",
            "[[-3.70103121e-01 -5.13417423e-01  2.94809073e-01 -3.62239838e-01\n",
            "   8.99516568e-02  2.66093642e-01  5.10846078e-01  2.18529969e-01\n",
            "   1.95331991e-01 -2.73345619e-01 -2.15451971e-01  2.58437753e-01\n",
            "  -3.23797107e-01  1.71084017e-01 -8.23399350e-02 -3.17856520e-01\n",
            "  -2.01781794e-01  3.11679661e-01  6.98460340e-01 -1.66134790e-01\n",
            "   1.47307873e-01  6.67229593e-02 -1.08061381e-01 -4.05189544e-01\n",
            "   4.47464377e-01  4.23056364e-01 -7.91707277e-01 -1.85818136e-01\n",
            "  -3.24284136e-01  4.14105117e-01 -2.27863327e-01 -7.13389575e-01\n",
            "   2.00690866e-01  1.56885520e-01 -1.79673851e-01 -2.71441162e-01\n",
            "  -1.72591135e-02 -2.54574805e-01 -3.33605200e-01  1.40680512e-02\n",
            "  -4.79174614e-01 -7.99880266e-01  1.58293158e-01 -1.80358142e-01\n",
            "   1.02793224e-01  5.06073177e-01 -3.43841940e-01  2.16191173e-01\n",
            "  -2.15396017e-01 -2.34341025e-02 -7.36011863e-01  2.60150999e-01\n",
            "   6.58802092e-02  2.21520558e-01  1.57965243e-01 -2.05608234e-01\n",
            "   3.99103701e-01 -1.90665364e-01 -6.31502569e-02 -5.04134655e-01\n",
            "  -1.68034419e-01 -4.47965503e-01  5.00124156e-01  1.35702759e-01\n",
            "   3.32543075e-01 -1.30733207e-01  2.49941498e-01  1.18251845e-01\n",
            "  -5.51198184e-01  1.57520711e-01 -3.29982787e-01 -1.79141775e-01\n",
            "   3.15249562e-01  1.58979192e-01 -1.04587287e-01 -3.05340201e-01\n",
            "  -7.55769610e-02  1.02505587e-01  2.64903814e-01 -2.01333746e-01\n",
            "   2.81572461e-01  8.87094215e-02  6.35327026e-02  2.94769824e-01\n",
            "   3.91825676e-01 -6.86785355e-02  5.93074597e-02  1.31155662e-02\n",
            "  -1.07819073e-01  2.97032803e-01 -3.43521237e-01 -1.61597952e-01\n",
            "  -5.74627101e-01  3.32532078e-02 -2.17194557e-01  4.85683054e-01\n",
            "  -3.79110068e-01  2.32481465e-01 -1.41399294e-01 -4.04826961e-02\n",
            "  -1.48948818e-01 -1.44164026e-01  3.33687335e-01  1.12011202e-01\n",
            "  -5.14622554e-02 -1.00921392e-01 -1.20467566e-01 -3.47432673e-01\n",
            "  -9.81948152e-02  3.07557702e-01 -1.64304867e-01  1.57577902e-01\n",
            "   6.51634037e-02  1.29197478e-01 -1.90124646e-01  3.30513805e-01\n",
            "  -1.33106351e-01  1.70547068e-01 -2.77506057e-02 -7.15871751e-02\n",
            "   7.45845810e-02 -6.94641322e-02 -6.73863515e-02  5.13951182e-01\n",
            "   2.13534877e-01  1.29569069e-01 -2.52272606e-01 -2.87537817e-02\n",
            "   1.08999923e-01 -3.37687582e-01 -4.75585423e-02  2.06057549e-01\n",
            "   1.57972053e-01  3.12300116e-01 -3.89844328e-01 -3.32955539e-01\n",
            "  -1.57886490e-01  6.76561818e-02  8.98181051e-02 -1.30160525e-01\n",
            "   1.85477376e-01  5.56953013e-01  4.16380614e-01 -2.42351785e-01\n",
            "   1.49811849e-01  3.33074152e-01 -2.35362813e-01  1.84482053e-01\n",
            "  -9.83866304e-02  9.27043408e-02 -1.85431521e-02  2.87299931e-01\n",
            "   1.75049424e-01 -5.53395033e-01 -4.86665636e-01  2.08713114e-01\n",
            "  -1.49512351e-01  3.73206511e-02 -1.73966959e-01  4.96715084e-02\n",
            "   9.07944664e-02  2.53084004e-01 -5.66708744e-02  4.68956918e-01\n",
            "   1.64566323e-01  5.67986518e-02  4.36035991e-01  4.40310895e-01\n",
            "   1.13425799e-01 -2.14890435e-01 -3.82239759e-01  1.27460028e-03\n",
            "   2.83196747e-01  1.42812207e-01 -3.72726738e-01  7.38573968e-02\n",
            "   5.35831094e-01 -1.43795699e-01  7.07969740e-02  1.70195699e-01\n",
            "  -2.97699124e-01  6.19279325e-01 -1.77882925e-01 -5.74555874e-01\n",
            "  -2.47447580e-01  1.54058173e-01 -2.25701854e-02 -2.90937066e-01\n",
            "   1.93392068e-01  2.70633310e-01 -4.41473395e-01 -4.44018006e-01\n",
            "  -2.21114650e-01 -2.22072184e-01  2.81419635e-01 -5.60885146e-02\n",
            "   1.02755502e-02 -3.02994519e-01  1.06052227e-01 -2.41321996e-01\n",
            "   6.55356050e-01  1.08381107e-01  5.25741935e-01  2.58991361e-01\n",
            "   2.42851958e-01 -9.21505839e-02  4.41981778e-02  5.64496815e-02\n",
            "  -2.08068863e-01  2.27537721e-01 -5.47415495e-01  6.68799460e-01\n",
            "  -7.38264993e-02  1.57227963e-01  1.45628639e-02 -3.71610463e-01\n",
            "   2.19259724e-01 -2.53203690e-01 -3.60859692e-01  3.49637747e-01\n",
            "   7.48293847e-02 -1.75015241e-01  4.16892432e-02  7.33686745e-01\n",
            "  -5.11446059e-01  2.98829496e-01 -7.72204474e-02  6.25923276e-02\n",
            "   3.74919593e-01  7.69326150e-01  9.20135230e-02  1.56471401e-01\n",
            "  -7.18753815e-01  4.06800844e-02 -1.97324231e-01  3.37038696e-01\n",
            "  -2.72596151e-01  1.53256595e-01 -3.54176983e-02 -1.73113734e-01\n",
            "  -2.76469260e-01 -1.59480661e-01  2.36703277e-01 -2.64939405e-02\n",
            "   1.52552620e-01 -1.40582725e-01  4.40683961e-01 -2.88447440e-01\n",
            "   1.79114342e-01 -7.32468441e-02  1.13736698e-02 -4.19032067e-01\n",
            "   1.87161162e-01 -3.92607808e-01 -1.99366361e-01 -7.45568693e-01\n",
            "   5.74169382e-02 -2.93664932e-01  6.50581047e-02 -2.03093261e-01\n",
            "   8.23150650e-02  8.98450762e-02  4.85564262e-01 -1.12477779e-01\n",
            "  -9.20077860e-02 -4.43209738e-01  5.36859483e-02  1.81087345e-01\n",
            "   4.63165790e-01 -7.47100830e-01 -3.97183001e-01 -6.69140443e-02\n",
            "   1.48262069e-01  4.11263615e-01 -4.75914776e-01 -6.68737113e-01\n",
            "   3.71648781e-02  1.95824280e-01  2.33425632e-01  2.17857882e-01\n",
            "  -3.08146387e-01  7.19884858e-02 -4.81869042e-01 -1.76949710e-01\n",
            "   6.04833841e-01 -2.44469106e-01 -6.29545212e-01 -3.67739230e-01\n",
            "  -1.28793135e-01 -2.03341961e-01 -4.59008723e-01 -5.20482957e-01\n",
            "  -2.74322599e-01  7.19202682e-02  4.89898950e-01 -3.95420223e-01\n",
            "   5.21626696e-02  5.14912128e-01 -2.91919373e-02 -2.15256095e-01\n",
            "  -1.63397223e-01  5.07280946e-01 -2.89506614e-01 -2.25196764e-01\n",
            "   7.92017579e-03 -1.55177012e-01 -2.32154161e-01  7.54760280e-02\n",
            "  -5.74766350e+00  1.20190233e-01 -2.02194437e-01 -1.19972512e-01\n",
            "   4.95764762e-01  1.54091105e-01  2.85151005e-02  3.81945252e-01\n",
            "   2.47859597e-01  5.16059577e-01  8.33199918e-02 -3.78329128e-01\n",
            "  -1.45990506e-01  7.55879045e-01 -2.35836700e-01 -1.95769697e-01\n",
            "  -1.10929444e-01  4.64362651e-02 -4.44232494e-01  3.13010186e-01\n",
            "  -3.60376090e-01 -4.27771449e-01  8.57829273e-01  1.29773334e-01\n",
            "  -3.17413449e-01  2.10208952e-01  6.72990978e-01  9.22857970e-02\n",
            "  -2.19804034e-01 -2.41148964e-01  8.50232225e-03  9.28507447e-02\n",
            "  -1.77149519e-01  4.26833853e-02 -1.26232684e-01  2.07089633e-01\n",
            "   1.15060590e-01 -6.30418003e-01  5.19070804e-01  1.49309784e-01\n",
            "   3.62941593e-01  4.29871202e-01  3.16543609e-01  4.92391810e-02\n",
            "   4.75999922e-01 -2.79317141e-01  2.06967264e-01 -1.69322088e-01\n",
            "  -1.66636165e-02  1.46103725e-01  2.31125981e-01  1.96497574e-01\n",
            "  -2.45305836e-01 -2.72091001e-01  3.61441612e-01  1.87768593e-01\n",
            "   2.76208967e-01  2.30161205e-01  1.91517472e-01  5.38394339e-02\n",
            "   3.43752444e-01 -3.36299121e-01 -2.87401438e-01  2.91642785e-01\n",
            "  -4.71645772e-01 -2.58919895e-01 -3.20320994e-01  5.59032336e-02\n",
            "  -1.02509804e-01 -4.22885902e-02 -5.02745152e-01 -2.14665428e-01\n",
            "   3.06874156e-01 -5.98103702e-01  2.23411649e-01 -3.53837684e-02\n",
            "  -3.53944778e-01  3.01179528e-01  5.84112853e-02 -2.91267633e-01\n",
            "  -1.21284418e-01  1.47108227e-01  1.84761271e-01  2.58612096e-01\n",
            "   1.17323272e-01  2.69078821e-01  2.03661963e-01 -1.38975024e-01\n",
            "   1.48812965e-01  5.08260548e-01 -1.02948293e-01 -3.97341028e-02\n",
            "   5.46406448e-01 -7.66196921e-02  1.56002298e-01  5.39802074e-01\n",
            "   5.91850758e-01 -3.58040988e-01  2.28424650e-02 -1.02676556e-01\n",
            "  -1.64032672e-02 -7.28220642e-02  4.83061709e-02 -2.12066710e-01\n",
            "   4.61212873e-01 -3.13068330e-01 -7.60816634e-01  6.14697814e-01\n",
            "  -2.53300756e-01  4.02637839e-01  4.48027313e-01  2.46709324e-02\n",
            "  -1.90841258e-01 -6.55730963e-02 -1.67081416e-01 -1.49019714e-03\n",
            "  -2.02645138e-02  2.82383740e-01  6.27765834e-01  7.27937967e-02\n",
            "  -5.69417894e-01  3.29435796e-01 -3.08683842e-01 -9.42796692e-02\n",
            "  -1.80409715e-01 -2.05631584e-01 -2.85241216e-01  2.90353656e-01\n",
            "  -3.68280232e-01  2.11222351e-01 -1.91969335e-01  1.04703672e-01\n",
            "   2.26245746e-01 -1.14036538e-01 -8.67480189e-02 -3.71745884e-01\n",
            "  -2.13769957e-01 -2.61494547e-01  1.19988739e-01  4.94699478e-01\n",
            "   4.53121886e-02 -2.57534474e-01 -3.58756900e-01  1.47992685e-01\n",
            "   4.66707230e-01 -5.61690480e-02  1.29543349e-01 -3.82669061e-01\n",
            "   1.91235363e-01  4.25546378e-01  5.37401736e-02 -7.78218150e-01\n",
            "   4.35551792e-01  1.98922530e-02 -4.54016328e-01 -5.48518002e-01\n",
            "   3.04210275e-01 -3.75898898e-01 -1.88348040e-01 -4.70449895e-01\n",
            "   1.47669449e-01  1.43120229e-01  5.59711307e-02  1.78815037e-01\n",
            "  -5.84283732e-02 -6.98269978e-02 -5.31263173e-01  2.60467618e-03\n",
            "   1.08201064e-01 -1.05705388e-01  7.54586533e-02 -8.87911916e-01\n",
            "   8.68387967e-02  2.02914372e-01  2.45664686e-01 -4.07601632e-02\n",
            "   1.36548415e-01 -4.46013331e-01  5.77863604e-02  2.48122707e-01\n",
            "   6.00002706e-01  5.27292453e-02  1.69740632e-01 -2.06108578e-02\n",
            "   8.98631513e-01 -1.80446327e-01 -1.47431284e-01  3.18433106e-01\n",
            "   2.63037562e-01 -1.28142685e-01 -4.32989985e-01 -2.66433239e-01\n",
            "  -4.03349340e-01 -5.55705309e-01  3.58747661e-01 -3.45429271e-01\n",
            "   3.53018463e-01  6.47356927e-01  7.34260604e-02  2.54411668e-01\n",
            "  -1.43150151e-01 -3.55887145e-01 -3.86031829e-02 -4.58007343e-02\n",
            "   4.97481853e-01 -3.25154722e-01  3.55320245e-01 -2.27276683e-02\n",
            "  -1.72077999e-01 -1.87784314e-01  2.94984341e-01 -3.16399187e-01\n",
            "   8.07662234e-02 -4.29853320e-01 -5.07676482e-01 -4.18677479e-02\n",
            "  -1.51739046e-01 -7.77949542e-02 -2.12956101e-01 -9.39927697e-02\n",
            "  -1.41565144e-01 -3.14704031e-01  7.66131580e-02  1.00596860e-01\n",
            "  -2.46688306e-01 -8.60905275e-02 -5.29136896e-01 -2.20093071e-01\n",
            "   3.82294506e-01 -6.76005632e-02  2.22760811e-01 -2.22818963e-02\n",
            "   3.25857818e-01  7.12023020e-01  8.32006633e-02 -4.85216379e-01\n",
            "  -7.44202495e-01 -2.53313947e-02 -4.08391118e-01 -2.23491579e-01\n",
            "  -3.18967491e-01 -5.71246624e-01 -5.29407918e-01 -4.35260803e-01\n",
            "   2.07066551e-01  1.29909590e-01 -2.90199183e-02  3.90123501e-02\n",
            "   7.62564063e-01  4.02325243e-01  1.49909481e-01  7.81561881e-02\n",
            "  -3.63264441e-01 -7.83516094e-02  6.46217614e-02 -8.72965395e-01\n",
            "  -3.42409015e-01 -1.42711684e-01 -3.32878530e-01  1.95052579e-01\n",
            "  -1.01238251e-01 -2.75057219e-02  1.62541389e-01  1.82166964e-01\n",
            "  -4.96422425e-02  3.71906161e-01  2.28574798e-02  3.09184100e-02\n",
            "   7.28835389e-02  7.84540772e-02 -3.65483642e-01  1.63840085e-01\n",
            "   2.28989348e-01  3.07764798e-01  2.25412160e-01 -3.86821508e-01\n",
            "   2.17912346e-01 -3.42722982e-01  3.74662876e-02 -1.27753511e-01\n",
            "   8.83386061e-02  4.63746488e-01 -2.74619639e-01  1.67012624e-02\n",
            "   4.03014630e-01 -2.55899400e-01 -4.58255082e-01 -8.92701805e-01\n",
            "  -1.55646458e-01 -3.53761792e-01  1.73904300e-01  4.36946034e-01\n",
            "   4.56678033e-01  4.95669454e-01  6.62035868e-02  2.94629812e-01\n",
            "  -2.42629752e-01  3.43055904e-01 -3.35751384e-01 -8.89473185e-02\n",
            "   2.35389933e-01  4.63390470e-01 -8.42927955e-03 -2.44000033e-01\n",
            "  -3.56442809e-01  2.86709666e-01  5.18001378e-01 -1.64646477e-01\n",
            "   2.25926023e-02  3.79741937e-01 -4.63829994e-01 -2.12783396e-01\n",
            "   2.86938488e-01  4.34871584e-01 -2.46857852e-01 -1.82194725e-01\n",
            "   4.89271507e-02 -6.15321457e-01 -4.32393104e-01 -9.99050736e-02\n",
            "  -1.10327207e-01  3.10792476e-01  5.31173766e-01  3.85773271e-01\n",
            "   3.13001722e-01  2.62734234e-01 -3.47809553e-01  4.17967409e-01\n",
            "   4.51287150e-01  4.18366417e-02  2.34843805e-01  2.03191400e-01\n",
            "   3.84143665e-02  2.48938128e-01 -2.23941747e-02 -1.88169912e-01\n",
            "   4.01986897e-01  2.48073697e-01  4.01337445e-02  3.76135856e-02\n",
            "   1.08075246e-01  6.82148039e-01  3.03883225e-01 -2.87583381e-01\n",
            "  -2.80115724e-01  1.77015975e-01  3.78768414e-01  5.37426472e-02\n",
            "   3.23003322e-01  7.08280385e-01 -1.64361224e-01  3.60899210e-01\n",
            "  -2.52654076e-01 -3.25807601e-01 -1.38690189e-01  1.10596284e-01\n",
            "  -2.51489908e-01  6.78577602e-01  4.08060513e-02 -2.78096888e-02\n",
            "  -2.49946658e-02  8.25350359e-02 -8.27035606e-02  1.30676597e-01\n",
            "  -3.38477552e-01  4.52425256e-02  3.84394646e-01 -1.64853528e-01\n",
            "  -1.57510303e-02  7.44758099e-02 -3.02909046e-01  4.75940704e-01\n",
            "   8.90658349e-02  2.72692591e-01 -1.32441029e-01 -1.12158425e-01\n",
            "   1.60996094e-01  1.08008556e-01 -4.23926651e-01 -1.73721358e-01\n",
            "  -1.87538400e-01 -5.60250739e-03 -2.29779109e-02 -3.10677718e-02\n",
            "   3.44193541e-02 -4.57285225e-01  7.01474696e-02  2.95038074e-02\n",
            "  -3.54390979e-01  3.14254254e-01 -9.44278166e-02 -2.87609011e-01\n",
            "  -1.84494238e-02  6.12487905e-02  2.11517334e-01 -2.77735800e-01\n",
            "  -2.40600288e-01 -6.70915768e-02  4.45763707e-01  1.05983123e-01\n",
            "   2.70431340e-01  2.87529796e-01  5.33259287e-02 -1.14743777e-01\n",
            "  -2.59625055e-02 -5.00324592e-02  3.55586112e-02 -1.39960110e-01\n",
            "  -1.98616445e-01 -5.18101789e-02  4.82615441e-01  1.93629205e-01\n",
            "  -2.96346009e-01  3.44089955e-01 -2.67290324e-01 -1.22143723e-01\n",
            "   1.60571367e-01  3.67428780e-01  2.00614870e-01 -4.96023268e-01\n",
            "   1.42025962e-01  1.74042676e-02  1.40615240e-01  5.81987873e-02\n",
            "   1.05442546e-01  3.25774103e-01 -2.27809966e-01 -1.74163226e-02\n",
            "  -1.52219124e-02  4.33603972e-01  2.16496468e-01  1.48595273e-01\n",
            "   1.51873678e-01  1.32395864e-01 -4.38264817e-01 -4.03579593e-01\n",
            "  -6.83019832e-02  3.28771509e-02  2.49322370e-01  5.26615530e-02\n",
            "  -3.96293551e-01  5.71974874e-01 -1.19219124e-01 -1.46046221e-01\n",
            "  -1.67250022e-01 -7.03985989e-02 -1.47743989e-02 -4.08251494e-01\n",
            "  -4.37901467e-01 -3.96682233e-01  5.03052950e-01 -1.22317113e-01\n",
            "   1.59878224e-01  3.00278887e-02 -8.54590610e-02  2.97594238e-02\n",
            "   3.33952665e-01 -3.58424038e-01 -2.65455157e-01 -2.31186002e-01]]\n"
          ]
        }
      ]
    },
    {
      "cell_type": "markdown",
      "source": [
        "Evaluasi performa hasil"
      ],
      "metadata": {
        "id": "QZUpznib15S5"
      }
    },
    {
      "cell_type": "code",
      "source": [
        "num_normal = len(new_raw_data) // 2  # Assuming first half is normal\n",
        "num_anomalous = len(new_raw_data) - num_normal\n",
        "\n",
        "true_labels = [1] * num_normal + [0] * num_anomalous\n",
        "\n",
        "# Convert -1 and 1 predictions to 0 and 1 for compatibility\n",
        "predicted_labels = (predictions + 1) // 2  # Convert -1 to 0 and 1 to 1"
      ],
      "metadata": {
        "id": "-tOm8o851xSd"
      },
      "execution_count": 27,
      "outputs": []
    },
    {
      "cell_type": "code",
      "source": [
        "from sklearn.metrics import precision_score, recall_score, f1_score\n",
        "# Calculate metrics\n",
        "accuracy = accuracy_score(true_labels, predicted_labels)\n",
        "precision = precision_score(true_labels, predicted_labels)\n",
        "recall = recall_score(true_labels, predicted_labels)\n",
        "f1 = f1_score(true_labels, predicted_labels)\n",
        "\n",
        "# Print the results\n",
        "print(f\"Accuracy: {accuracy:.2f}\")\n",
        "print(f\"Precision: {precision:.2f}\")\n",
        "print(f\"Recall: {recall:.2f}\")\n",
        "print(f\"F1 Score: {f1:.2f}\")\n",
        "\n",
        "# Print detailed classification report\n",
        "print(classification_report(true_labels, predicted_labels))"
      ],
      "metadata": {
        "id": "vAXtoVj7E68e",
        "colab": {
          "base_uri": "https://localhost:8080/"
        },
        "outputId": "1f73ba15-1b4f-4709-a726-f7acc2aa48de"
      },
      "execution_count": 29,
      "outputs": [
        {
          "output_type": "stream",
          "name": "stdout",
          "text": [
            "Accuracy: 1.00\n",
            "Precision: 0.00\n",
            "Recall: 0.00\n",
            "F1 Score: 0.00\n",
            "              precision    recall  f1-score   support\n",
            "\n",
            "           0       1.00      1.00      1.00         1\n",
            "\n",
            "    accuracy                           1.00         1\n",
            "   macro avg       1.00      1.00      1.00         1\n",
            "weighted avg       1.00      1.00      1.00         1\n",
            "\n"
          ]
        },
        {
          "output_type": "stream",
          "name": "stderr",
          "text": [
            "/usr/local/lib/python3.10/dist-packages/sklearn/metrics/_classification.py:1531: UndefinedMetricWarning: Precision is ill-defined and being set to 0.0 due to no predicted samples. Use `zero_division` parameter to control this behavior.\n",
            "  _warn_prf(average, modifier, f\"{metric.capitalize()} is\", len(result))\n",
            "/usr/local/lib/python3.10/dist-packages/sklearn/metrics/_classification.py:1531: UndefinedMetricWarning: Recall is ill-defined and being set to 0.0 due to no true samples. Use `zero_division` parameter to control this behavior.\n",
            "  _warn_prf(average, modifier, f\"{metric.capitalize()} is\", len(result))\n",
            "/usr/local/lib/python3.10/dist-packages/sklearn/metrics/_classification.py:1531: UndefinedMetricWarning: F-score is ill-defined and being set to 0.0 due to no true nor predicted samples. Use `zero_division` parameter to control this behavior.\n",
            "  _warn_prf(average, modifier, f\"{metric.capitalize()} is\", len(result))\n"
          ]
        }
      ]
    },
    {
      "cell_type": "markdown",
      "source": [
        "gambar hasil"
      ],
      "metadata": {
        "id": "cK985n7j2F5Q"
      }
    },
    {
      "cell_type": "code",
      "source": [
        "pca = PCA(n_components=2)\n",
        "reduced_data = pca.fit_transform(new_data)\n",
        "\n",
        "# Plot\n",
        "plt.figure(figsize=(10, 6))\n",
        "plt.scatter(reduced_data[~anomalies, 0], reduced_data[~anomalies, 1], label='Normal', alpha=0.5)\n",
        "plt.scatter(reduced_data[anomalies, 0], reduced_data[anomalies, 1], label='Anomalies', color='red')\n",
        "plt.legend()\n",
        "plt.title('Anomaly Detection using One-Class SVM')\n",
        "plt.xlabel('PCA Component 1')\n",
        "plt.ylabel('PCA Component 2')\n",
        "plt.show()"
      ],
      "metadata": {
        "id": "nzoFIySDVEP-",
        "colab": {
          "base_uri": "https://localhost:8080/",
          "height": 356
        },
        "outputId": "5dd4f8df-96a7-4480-ed15-b99f2386908c"
      },
      "execution_count": 30,
      "outputs": [
        {
          "output_type": "error",
          "ename": "ValueError",
          "evalue": "n_components=2 must be between 0 and min(n_samples, n_features)=1 with svd_solver='full'",
          "traceback": [
            "\u001b[0;31m---------------------------------------------------------------------------\u001b[0m",
            "\u001b[0;31mValueError\u001b[0m                                Traceback (most recent call last)",
            "\u001b[0;32m<ipython-input-30-9596582976f3>\u001b[0m in \u001b[0;36m<cell line: 2>\u001b[0;34m()\u001b[0m\n\u001b[1;32m      1\u001b[0m \u001b[0mpca\u001b[0m \u001b[0;34m=\u001b[0m \u001b[0mPCA\u001b[0m\u001b[0;34m(\u001b[0m\u001b[0mn_components\u001b[0m\u001b[0;34m=\u001b[0m\u001b[0;36m2\u001b[0m\u001b[0;34m)\u001b[0m\u001b[0;34m\u001b[0m\u001b[0;34m\u001b[0m\u001b[0m\n\u001b[0;32m----> 2\u001b[0;31m \u001b[0mreduced_data\u001b[0m \u001b[0;34m=\u001b[0m \u001b[0mpca\u001b[0m\u001b[0;34m.\u001b[0m\u001b[0mfit_transform\u001b[0m\u001b[0;34m(\u001b[0m\u001b[0mnew_data\u001b[0m\u001b[0;34m)\u001b[0m\u001b[0;34m\u001b[0m\u001b[0;34m\u001b[0m\u001b[0m\n\u001b[0m\u001b[1;32m      3\u001b[0m \u001b[0;34m\u001b[0m\u001b[0m\n\u001b[1;32m      4\u001b[0m \u001b[0;31m# Plot\u001b[0m\u001b[0;34m\u001b[0m\u001b[0;34m\u001b[0m\u001b[0m\n\u001b[1;32m      5\u001b[0m \u001b[0mplt\u001b[0m\u001b[0;34m.\u001b[0m\u001b[0mfigure\u001b[0m\u001b[0;34m(\u001b[0m\u001b[0mfigsize\u001b[0m\u001b[0;34m=\u001b[0m\u001b[0;34m(\u001b[0m\u001b[0;36m10\u001b[0m\u001b[0;34m,\u001b[0m \u001b[0;36m6\u001b[0m\u001b[0;34m)\u001b[0m\u001b[0;34m)\u001b[0m\u001b[0;34m\u001b[0m\u001b[0;34m\u001b[0m\u001b[0m\n",
            "\u001b[0;32m/usr/local/lib/python3.10/dist-packages/sklearn/utils/_set_output.py\u001b[0m in \u001b[0;36mwrapped\u001b[0;34m(self, X, *args, **kwargs)\u001b[0m\n\u001b[1;32m    314\u001b[0m     \u001b[0;34m@\u001b[0m\u001b[0mwraps\u001b[0m\u001b[0;34m(\u001b[0m\u001b[0mf\u001b[0m\u001b[0;34m)\u001b[0m\u001b[0;34m\u001b[0m\u001b[0;34m\u001b[0m\u001b[0m\n\u001b[1;32m    315\u001b[0m     \u001b[0;32mdef\u001b[0m \u001b[0mwrapped\u001b[0m\u001b[0;34m(\u001b[0m\u001b[0mself\u001b[0m\u001b[0;34m,\u001b[0m \u001b[0mX\u001b[0m\u001b[0;34m,\u001b[0m \u001b[0;34m*\u001b[0m\u001b[0margs\u001b[0m\u001b[0;34m,\u001b[0m \u001b[0;34m**\u001b[0m\u001b[0mkwargs\u001b[0m\u001b[0;34m)\u001b[0m\u001b[0;34m:\u001b[0m\u001b[0;34m\u001b[0m\u001b[0;34m\u001b[0m\u001b[0m\n\u001b[0;32m--> 316\u001b[0;31m         \u001b[0mdata_to_wrap\u001b[0m \u001b[0;34m=\u001b[0m \u001b[0mf\u001b[0m\u001b[0;34m(\u001b[0m\u001b[0mself\u001b[0m\u001b[0;34m,\u001b[0m \u001b[0mX\u001b[0m\u001b[0;34m,\u001b[0m \u001b[0;34m*\u001b[0m\u001b[0margs\u001b[0m\u001b[0;34m,\u001b[0m \u001b[0;34m**\u001b[0m\u001b[0mkwargs\u001b[0m\u001b[0;34m)\u001b[0m\u001b[0;34m\u001b[0m\u001b[0;34m\u001b[0m\u001b[0m\n\u001b[0m\u001b[1;32m    317\u001b[0m         \u001b[0;32mif\u001b[0m \u001b[0misinstance\u001b[0m\u001b[0;34m(\u001b[0m\u001b[0mdata_to_wrap\u001b[0m\u001b[0;34m,\u001b[0m \u001b[0mtuple\u001b[0m\u001b[0;34m)\u001b[0m\u001b[0;34m:\u001b[0m\u001b[0;34m\u001b[0m\u001b[0;34m\u001b[0m\u001b[0m\n\u001b[1;32m    318\u001b[0m             \u001b[0;31m# only wrap the first output for cross decomposition\u001b[0m\u001b[0;34m\u001b[0m\u001b[0;34m\u001b[0m\u001b[0m\n",
            "\u001b[0;32m/usr/local/lib/python3.10/dist-packages/sklearn/base.py\u001b[0m in \u001b[0;36mwrapper\u001b[0;34m(estimator, *args, **kwargs)\u001b[0m\n\u001b[1;32m   1471\u001b[0m                 )\n\u001b[1;32m   1472\u001b[0m             ):\n\u001b[0;32m-> 1473\u001b[0;31m                 \u001b[0;32mreturn\u001b[0m \u001b[0mfit_method\u001b[0m\u001b[0;34m(\u001b[0m\u001b[0mestimator\u001b[0m\u001b[0;34m,\u001b[0m \u001b[0;34m*\u001b[0m\u001b[0margs\u001b[0m\u001b[0;34m,\u001b[0m \u001b[0;34m**\u001b[0m\u001b[0mkwargs\u001b[0m\u001b[0;34m)\u001b[0m\u001b[0;34m\u001b[0m\u001b[0;34m\u001b[0m\u001b[0m\n\u001b[0m\u001b[1;32m   1474\u001b[0m \u001b[0;34m\u001b[0m\u001b[0m\n\u001b[1;32m   1475\u001b[0m         \u001b[0;32mreturn\u001b[0m \u001b[0mwrapper\u001b[0m\u001b[0;34m\u001b[0m\u001b[0;34m\u001b[0m\u001b[0m\n",
            "\u001b[0;32m/usr/local/lib/python3.10/dist-packages/sklearn/decomposition/_pca.py\u001b[0m in \u001b[0;36mfit_transform\u001b[0;34m(self, X, y)\u001b[0m\n\u001b[1;32m    472\u001b[0m         \u001b[0mC\u001b[0m\u001b[0;34m-\u001b[0m\u001b[0mordered\u001b[0m \u001b[0marray\u001b[0m\u001b[0;34m,\u001b[0m \u001b[0muse\u001b[0m \u001b[0;34m'np.ascontiguousarray'\u001b[0m\u001b[0;34m.\u001b[0m\u001b[0;34m\u001b[0m\u001b[0;34m\u001b[0m\u001b[0m\n\u001b[1;32m    473\u001b[0m         \"\"\"\n\u001b[0;32m--> 474\u001b[0;31m         \u001b[0mU\u001b[0m\u001b[0;34m,\u001b[0m \u001b[0mS\u001b[0m\u001b[0;34m,\u001b[0m \u001b[0m_\u001b[0m\u001b[0;34m,\u001b[0m \u001b[0mX\u001b[0m\u001b[0;34m,\u001b[0m \u001b[0mx_is_centered\u001b[0m\u001b[0;34m,\u001b[0m \u001b[0mxp\u001b[0m \u001b[0;34m=\u001b[0m \u001b[0mself\u001b[0m\u001b[0;34m.\u001b[0m\u001b[0m_fit\u001b[0m\u001b[0;34m(\u001b[0m\u001b[0mX\u001b[0m\u001b[0;34m)\u001b[0m\u001b[0;34m\u001b[0m\u001b[0;34m\u001b[0m\u001b[0m\n\u001b[0m\u001b[1;32m    475\u001b[0m         \u001b[0;32mif\u001b[0m \u001b[0mU\u001b[0m \u001b[0;32mis\u001b[0m \u001b[0;32mnot\u001b[0m \u001b[0;32mNone\u001b[0m\u001b[0;34m:\u001b[0m\u001b[0;34m\u001b[0m\u001b[0;34m\u001b[0m\u001b[0m\n\u001b[1;32m    476\u001b[0m             \u001b[0mU\u001b[0m \u001b[0;34m=\u001b[0m \u001b[0mU\u001b[0m\u001b[0;34m[\u001b[0m\u001b[0;34m:\u001b[0m\u001b[0;34m,\u001b[0m \u001b[0;34m:\u001b[0m \u001b[0mself\u001b[0m\u001b[0;34m.\u001b[0m\u001b[0mn_components_\u001b[0m\u001b[0;34m]\u001b[0m\u001b[0;34m\u001b[0m\u001b[0;34m\u001b[0m\u001b[0m\n",
            "\u001b[0;32m/usr/local/lib/python3.10/dist-packages/sklearn/decomposition/_pca.py\u001b[0m in \u001b[0;36m_fit\u001b[0;34m(self, X)\u001b[0m\n\u001b[1;32m    545\u001b[0m         \u001b[0;31m# Call different fits for either full or truncated SVD\u001b[0m\u001b[0;34m\u001b[0m\u001b[0;34m\u001b[0m\u001b[0m\n\u001b[1;32m    546\u001b[0m         \u001b[0;32mif\u001b[0m \u001b[0mself\u001b[0m\u001b[0;34m.\u001b[0m\u001b[0m_fit_svd_solver\u001b[0m \u001b[0;32min\u001b[0m \u001b[0;34m(\u001b[0m\u001b[0;34m\"full\"\u001b[0m\u001b[0;34m,\u001b[0m \u001b[0;34m\"covariance_eigh\"\u001b[0m\u001b[0;34m)\u001b[0m\u001b[0;34m:\u001b[0m\u001b[0;34m\u001b[0m\u001b[0;34m\u001b[0m\u001b[0m\n\u001b[0;32m--> 547\u001b[0;31m             \u001b[0;32mreturn\u001b[0m \u001b[0mself\u001b[0m\u001b[0;34m.\u001b[0m\u001b[0m_fit_full\u001b[0m\u001b[0;34m(\u001b[0m\u001b[0mX\u001b[0m\u001b[0;34m,\u001b[0m \u001b[0mn_components\u001b[0m\u001b[0;34m,\u001b[0m \u001b[0mxp\u001b[0m\u001b[0;34m,\u001b[0m \u001b[0mis_array_api_compliant\u001b[0m\u001b[0;34m)\u001b[0m\u001b[0;34m\u001b[0m\u001b[0;34m\u001b[0m\u001b[0m\n\u001b[0m\u001b[1;32m    548\u001b[0m         \u001b[0;32melif\u001b[0m \u001b[0mself\u001b[0m\u001b[0;34m.\u001b[0m\u001b[0m_fit_svd_solver\u001b[0m \u001b[0;32min\u001b[0m \u001b[0;34m[\u001b[0m\u001b[0;34m\"arpack\"\u001b[0m\u001b[0;34m,\u001b[0m \u001b[0;34m\"randomized\"\u001b[0m\u001b[0;34m]\u001b[0m\u001b[0;34m:\u001b[0m\u001b[0;34m\u001b[0m\u001b[0;34m\u001b[0m\u001b[0m\n\u001b[1;32m    549\u001b[0m             \u001b[0;32mreturn\u001b[0m \u001b[0mself\u001b[0m\u001b[0;34m.\u001b[0m\u001b[0m_fit_truncated\u001b[0m\u001b[0;34m(\u001b[0m\u001b[0mX\u001b[0m\u001b[0;34m,\u001b[0m \u001b[0mn_components\u001b[0m\u001b[0;34m,\u001b[0m \u001b[0mxp\u001b[0m\u001b[0;34m)\u001b[0m\u001b[0;34m\u001b[0m\u001b[0;34m\u001b[0m\u001b[0m\n",
            "\u001b[0;32m/usr/local/lib/python3.10/dist-packages/sklearn/decomposition/_pca.py\u001b[0m in \u001b[0;36m_fit_full\u001b[0;34m(self, X, n_components, xp, is_array_api_compliant)\u001b[0m\n\u001b[1;32m    559\u001b[0m                 )\n\u001b[1;32m    560\u001b[0m         \u001b[0;32melif\u001b[0m \u001b[0;32mnot\u001b[0m \u001b[0;36m0\u001b[0m \u001b[0;34m<=\u001b[0m \u001b[0mn_components\u001b[0m \u001b[0;34m<=\u001b[0m \u001b[0mmin\u001b[0m\u001b[0;34m(\u001b[0m\u001b[0mn_samples\u001b[0m\u001b[0;34m,\u001b[0m \u001b[0mn_features\u001b[0m\u001b[0;34m)\u001b[0m\u001b[0;34m:\u001b[0m\u001b[0;34m\u001b[0m\u001b[0;34m\u001b[0m\u001b[0m\n\u001b[0;32m--> 561\u001b[0;31m             raise ValueError(\n\u001b[0m\u001b[1;32m    562\u001b[0m                 \u001b[0;34mf\"n_components={n_components} must be between 0 and \"\u001b[0m\u001b[0;34m\u001b[0m\u001b[0;34m\u001b[0m\u001b[0m\n\u001b[1;32m    563\u001b[0m                 \u001b[0;34mf\"min(n_samples, n_features)={min(n_samples, n_features)} with \"\u001b[0m\u001b[0;34m\u001b[0m\u001b[0;34m\u001b[0m\u001b[0m\n",
            "\u001b[0;31mValueError\u001b[0m: n_components=2 must be between 0 and min(n_samples, n_features)=1 with svd_solver='full'"
          ]
        }
      ]
    }
  ]
}